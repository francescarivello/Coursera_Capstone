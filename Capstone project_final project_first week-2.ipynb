{
 "cells": [
  {
   "cell_type": "markdown",
   "metadata": {},
   "source": [
    "# My project: open a restaurant in Amsterdam"
   ]
  },
  {
   "cell_type": "markdown",
   "metadata": {},
   "source": [
    "# 1. Introduction"
   ]
  },
  {
   "cell_type": "markdown",
   "metadata": {},
   "source": [
    "The purpose of this project is to help finding a top ten list of locations in Amsterdam with the lowest density of Italian Restaurants (i.e. locations where the competitors are most far away). \n",
    "\n",
    "I will help entrepreneurs who want to open an Italian restaurant in Amsterdam to make the best decision based on locations which are as far as possible from their competition.\n",
    "\n",
    "I am italian living in the Netherlands, so this data analysis is very interesting for me. Italian restaurants are relatively cheap compared to other types of restaurants and they are suitable for all types of customers, therefore I will assume that the wealth of a certain neighborhood will not influence the chances of success of the restaurant. As a first analysis, I will consider the vicinity to another italian restaurant as the main cause of lower incomes generated.\n",
    "\n",
    "Opening a restaurant in Amsterdam is a very attractive option. Amsterdam is a capital city with a huge amount of tourists all over the year.\n",
    "\n",
    "The problem is that Amsterdam is also very pricy, rents can be sky high so the the investment can be also very risky due to the high costs of maintaining the restaurant. \n",
    "\n",
    "To make sure there is a return in the investment of opening a restaurant, I will study where opening a restaurant in Amsterdam is the most profitable due to the lowest amount of competitors in the vicinity."
   ]
  },
  {
   "cell_type": "markdown",
   "metadata": {},
   "source": [
    "# 2. Problem I try to solve"
   ]
  },
  {
   "cell_type": "markdown",
   "metadata": {},
   "source": [
    "The major purpose of this project is to provide a list to a potential entrepreneur willing to open an italian restaurant in Amsterdam of areas where competitors would be most far away. "
   ]
  },
  {
   "cell_type": "markdown",
   "metadata": {},
   "source": [
    "# 3. Data"
   ]
  },
  {
   "cell_type": "markdown",
   "metadata": {},
   "source": [
    "## Foursquare API"
   ]
  },
  {
   "cell_type": "markdown",
   "metadata": {},
   "source": [
    "This project will use Four-square API as its prime data gathering source as it has a database of millions of places, especially their places API which provides the ability to perform location search, location sharing and details about a business. Using credentials of Foursquare API features of near-by places of the neighborhoods would be mined. "
   ]
  },
  {
   "cell_type": "markdown",
   "metadata": {},
   "source": [
    "## List of neighboroods in Amsterdam"
   ]
  },
  {
   "cell_type": "markdown",
   "metadata": {},
   "source": [
    "As data I need a list of the neighboroods present in Amsterdam with: their postcode and possibly latitude and longitude (otherwise latitude and longitude can be generated from geocoder).\n",
    "\n",
    "Multiple sites I can use for web scraping:\n",
    "- https://postcode.site/noord-holland/amsterdam\n",
    "- https://github.com/bobdenotter/4pp/blob/master/4pp.csv\n"
   ]
  },
  {
   "cell_type": "markdown",
   "metadata": {},
   "source": [
    "# 4. Methodology"
   ]
  },
  {
   "cell_type": "markdown",
   "metadata": {},
   "source": [
    "I will first look at the italian restaurants present in the different neighboroohds and then find the locations where there is a maximum distance to the nearest italian restaurant. The list of the top ten locations will be shared with the entrepreneur that can then evaluate where to open his/her restaurant also based on rents price for example."
   ]
  },
  {
   "cell_type": "markdown",
   "metadata": {},
   "source": [
    "## Libraries I will Use to Develope the Project:\n",
    "Pandas: For creating and manipulating dataframes.\n",
    "Folium: Python visualization library to visualize the neighborhoods cluster distribution of using interactive leaflet map.\n",
    "Geocoder: To retrieve Location Data.\n",
    "Beautiful Soup and Requests: To scrap and library to handle http requests.\n",
    "Matplotlib: Python Plotting Module."
   ]
  },
  {
   "cell_type": "markdown",
   "metadata": {},
   "source": [
    "# 5. Results"
   ]
  },
  {
   "cell_type": "markdown",
   "metadata": {},
   "source": [
    "# 6. Discussion"
   ]
  },
  {
   "cell_type": "markdown",
   "metadata": {},
   "source": [
    "# 7. Conclusions"
   ]
  },
  {
   "cell_type": "code",
   "execution_count": null,
   "metadata": {},
   "outputs": [],
   "source": []
  }
 ],
 "metadata": {
  "kernelspec": {
   "display_name": "Python 3",
   "language": "python",
   "name": "python3"
  },
  "language_info": {
   "codemirror_mode": {
    "name": "ipython",
    "version": 3
   },
   "file_extension": ".py",
   "mimetype": "text/x-python",
   "name": "python",
   "nbconvert_exporter": "python",
   "pygments_lexer": "ipython3",
   "version": "3.8.3"
  }
 },
 "nbformat": 4,
 "nbformat_minor": 4
}
